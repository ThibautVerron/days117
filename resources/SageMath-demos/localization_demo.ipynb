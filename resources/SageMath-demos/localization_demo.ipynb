{
 "cells": [
  {
   "cell_type": "markdown",
   "id": "b41d2573",
   "metadata": {},
   "source": [
    "Before running the code, please retrieve the `localization` branch from [git@github.com:xcaruso/sage].\n",
    "\n",
    "(Untested: `git fetch git@github.com:xcaruso/sage localization`)"
   ]
  },
  {
   "cell_type": "code",
   "execution_count": 31,
   "id": "e1a36670",
   "metadata": {},
   "outputs": [],
   "source": [
    "%display latex"
   ]
  },
  {
   "cell_type": "code",
   "execution_count": 32,
   "id": "314aff46",
   "metadata": {
    "scrolled": true
   },
   "outputs": [
    {
     "data": {
      "text/html": [
       "<html>\\(\\displaystyle \\newcommand{\\Bold}[1]{\\mathbf{#1}}\\Bold{Q}[x, y] \\left[ \\frac{1}{x + y}, \\frac{1}{x - y}\\right]\\)</html>"
      ],
      "text/latex": [
       "$\\displaystyle \\newcommand{\\Bold}[1]{\\mathbf{#1}}\\Bold{Q}[x, y] \\left[ \\frac{1}{x + y}, \\frac{1}{x - y}\\right]$"
      ],
      "text/plain": [
       "Localization of Multivariate Polynomial Ring in x, y over Rational Field at [x + y, x - y]"
      ]
     },
     "execution_count": 32,
     "metadata": {},
     "output_type": "execute_result"
    }
   ],
   "source": [
    "P.<x,y> = QQ[]\n",
    "L = P.localization([x+y,x-y])\n",
    "L"
   ]
  },
  {
   "cell_type": "code",
   "execution_count": 33,
   "id": "4031cad6",
   "metadata": {},
   "outputs": [
    {
     "data": {
      "text/html": [
       "<html>\\(\\displaystyle \\frac{1}{\\left(x + y\\right)\\cdot \\left(x - y\\right)}\\)</html>"
      ],
      "text/latex": [
       "$\\displaystyle \\frac{1}{\\left(x + y\\right)\\cdot \\left(x - y\\right)}$"
      ],
      "text/plain": [
       "(x + y)^(-1) * (x - y)^(-1)"
      ]
     },
     "execution_count": 33,
     "metadata": {},
     "output_type": "execute_result"
    }
   ],
   "source": [
    "u,v = L.inverse_of_units()\n",
    "(x^2-y^2)*u^2*v^2"
   ]
  },
  {
   "cell_type": "code",
   "execution_count": 34,
   "id": "0a6c4d3b",
   "metadata": {},
   "outputs": [
    {
     "data": {
      "text/html": [
       "<html>\\(\\displaystyle \\frac{x - y}{ x + y }\\)</html>"
      ],
      "text/latex": [
       "$\\displaystyle \\frac{x - y}{ x + y }$"
      ],
      "text/plain": [
       "(x - y) * (x + y)^(-1)"
      ]
     },
     "execution_count": 34,
     "metadata": {},
     "output_type": "execute_result"
    }
   ],
   "source": [
    "(x^2-y^2)*u^2"
   ]
  },
  {
   "cell_type": "code",
   "execution_count": 35,
   "id": "adc41a25",
   "metadata": {},
   "outputs": [
    {
     "data": {
      "text/html": [
       "<html>\\(\\displaystyle \\mathrm{False}\\)</html>"
      ],
      "text/latex": [
       "$\\displaystyle \\mathrm{False}$"
      ],
      "text/plain": [
       "False"
      ]
     },
     "execution_count": 35,
     "metadata": {},
     "output_type": "execute_result"
    }
   ],
   "source": [
    "L(x).is_unit()"
   ]
  },
  {
   "cell_type": "code",
   "execution_count": 36,
   "id": "a0ca6a71",
   "metadata": {},
   "outputs": [
    {
     "data": {
      "text/html": [
       "<html>\\(\\displaystyle \\mathrm{True}\\)</html>"
      ],
      "text/latex": [
       "$\\displaystyle \\mathrm{True}$"
      ],
      "text/plain": [
       "True"
      ]
     },
     "execution_count": 36,
     "metadata": {},
     "output_type": "execute_result"
    }
   ],
   "source": [
    "L(x+y).is_unit()"
   ]
  },
  {
   "cell_type": "code",
   "execution_count": 37,
   "id": "b025c223",
   "metadata": {},
   "outputs": [
    {
     "data": {
      "text/html": [
       "<html>\\(\\displaystyle \\newcommand{\\ZZ}{\\Bold{Z}}\\newcommand{\\Bold}[1]{\\mathbf{#1}}\\ZZ/12\\ZZ \\left[ \\frac{1}{2}\\right]\\)</html>"
      ],
      "text/latex": [
       "$\\displaystyle \\newcommand{\\ZZ}{\\Bold{Z}}\\newcommand{\\Bold}[1]{\\mathbf{#1}}\\ZZ/12\\ZZ \\left[ \\frac{1}{2}\\right]$"
      ],
      "text/plain": [
       "Localization of Ring of integers modulo 12 at [2]"
      ]
     },
     "execution_count": 37,
     "metadata": {},
     "output_type": "execute_result"
    }
   ],
   "source": [
    "L = Integers(12).localization([2])\n",
    "L"
   ]
  },
  {
   "cell_type": "code",
   "execution_count": 38,
   "id": "493973df",
   "metadata": {},
   "outputs": [
    {
     "data": {
      "text/html": [
       "<html>\\(\\displaystyle \\left(\\mathrm{True}, 2\\right)\\)</html>"
      ],
      "text/latex": [
       "$\\displaystyle \\left(\\mathrm{True}, 2\\right)$"
      ],
      "text/plain": [
       "(True, 2)"
      ]
     },
     "execution_count": 38,
     "metadata": {},
     "output_type": "execute_result"
    }
   ],
   "source": [
    "L(2).is_unit(),L(2)"
   ]
  },
  {
   "cell_type": "code",
   "execution_count": 39,
   "id": "b865e46a",
   "metadata": {},
   "outputs": [
    {
     "data": {
      "text/html": [
       "<html>\\(\\displaystyle \\mathrm{True}\\)</html>"
      ],
      "text/latex": [
       "$\\displaystyle \\mathrm{True}$"
      ],
      "text/plain": [
       "True"
      ]
     },
     "execution_count": 39,
     "metadata": {},
     "output_type": "execute_result"
    }
   ],
   "source": [
    "L(4).is_unit()"
   ]
  },
  {
   "cell_type": "code",
   "execution_count": 40,
   "id": "c9c752f8",
   "metadata": {},
   "outputs": [
    {
     "data": {
      "text/html": [
       "<html>\\(\\displaystyle \\frac{3}{2^{2}}\\)</html>"
      ],
      "text/latex": [
       "$\\displaystyle \\frac{3}{2^{2}}$"
      ],
      "text/plain": [
       "3 * 2^(-2)"
      ]
     },
     "execution_count": 40,
     "metadata": {},
     "output_type": "execute_result"
    }
   ],
   "source": [
    "L(3,[2])"
   ]
  },
  {
   "cell_type": "code",
   "execution_count": 41,
   "id": "3169349d",
   "metadata": {},
   "outputs": [
    {
     "data": {
      "text/html": [
       "<html>\\(\\displaystyle \\mathrm{False}\\)</html>"
      ],
      "text/latex": [
       "$\\displaystyle \\mathrm{False}$"
      ],
      "text/plain": [
       "False"
      ]
     },
     "execution_count": 41,
     "metadata": {},
     "output_type": "execute_result"
    }
   ],
   "source": [
    "L(3).is_unit()"
   ]
  },
  {
   "cell_type": "code",
   "execution_count": 43,
   "id": "0d2cad7b",
   "metadata": {},
   "outputs": [],
   "source": [
    "L = Integers(12).localization([2,3])"
   ]
  },
  {
   "cell_type": "code",
   "execution_count": 44,
   "id": "1aa6ce30",
   "metadata": {},
   "outputs": [
    {
     "data": {
      "text/html": [
       "<html>\\(\\displaystyle \\newcommand{\\ZZ}{\\Bold{Z}}\\newcommand{\\Bold}[1]{\\mathbf{#1}}\\ZZ/12\\ZZ \\left[ \\frac{1}{2}, \\frac{1}{3}\\right]\\)</html>"
      ],
      "text/latex": [
       "$\\displaystyle \\newcommand{\\ZZ}{\\Bold{Z}}\\newcommand{\\Bold}[1]{\\mathbf{#1}}\\ZZ/12\\ZZ \\left[ \\frac{1}{2}, \\frac{1}{3}\\right]$"
      ],
      "text/plain": [
       "Localization of Ring of integers modulo 12 at [2, 3]"
      ]
     },
     "execution_count": 44,
     "metadata": {},
     "output_type": "execute_result"
    }
   ],
   "source": [
    "L"
   ]
  },
  {
   "cell_type": "code",
   "execution_count": 45,
   "id": "367da04f",
   "metadata": {},
   "outputs": [
    {
     "data": {
      "text/html": [
       "<html>\\(\\displaystyle \\mathrm{True}\\)</html>"
      ],
      "text/latex": [
       "$\\displaystyle \\mathrm{True}$"
      ],
      "text/plain": [
       "True"
      ]
     },
     "execution_count": 45,
     "metadata": {},
     "output_type": "execute_result"
    }
   ],
   "source": [
    "L(0).is_unit()"
   ]
  },
  {
   "cell_type": "code",
   "execution_count": 46,
   "id": "6bd606ef",
   "metadata": {},
   "outputs": [
    {
     "data": {
      "text/html": [
       "<html>\\(\\displaystyle \\mathrm{True}\\)</html>"
      ],
      "text/latex": [
       "$\\displaystyle \\mathrm{True}$"
      ],
      "text/plain": [
       "True"
      ]
     },
     "execution_count": 46,
     "metadata": {},
     "output_type": "execute_result"
    }
   ],
   "source": [
    "L.is_zero()"
   ]
  },
  {
   "cell_type": "code",
   "execution_count": 47,
   "id": "fdf19d7d",
   "metadata": {},
   "outputs": [
    {
     "data": {
      "text/html": [
       "<html>\\(\\displaystyle \\newcommand{\\Bold}[1]{\\mathbf{#1}}\\Bold{Q}[x, y]/\\left(x y\\right)\\Bold{Q}[x, y] \\left[ \\frac{1}{x}\\right]\\)</html>"
      ],
      "text/latex": [
       "$\\displaystyle \\newcommand{\\Bold}[1]{\\mathbf{#1}}\\Bold{Q}[x, y]/\\left(x y\\right)\\Bold{Q}[x, y] \\left[ \\frac{1}{x}\\right]$"
      ],
      "text/plain": [
       "Localization of Quotient of Multivariate Polynomial Ring in x, y over Rational Field by the ideal (x*y) at [x]"
      ]
     },
     "execution_count": 47,
     "metadata": {},
     "output_type": "execute_result"
    }
   ],
   "source": [
    "P2.<x,y> = P.quotient([x*y])\n",
    "P3 = P2.localization([x])\n",
    "P3"
   ]
  },
  {
   "cell_type": "code",
   "execution_count": 48,
   "id": "34d88ad7",
   "metadata": {},
   "outputs": [
    {
     "data": {
      "text/html": [
       "<html>\\(\\displaystyle \\mathrm{True}\\)</html>"
      ],
      "text/latex": [
       "$\\displaystyle \\mathrm{True}$"
      ],
      "text/plain": [
       "True"
      ]
     },
     "execution_count": 48,
     "metadata": {},
     "output_type": "execute_result"
    }
   ],
   "source": [
    "P3(y) == P3(0)"
   ]
  },
  {
   "cell_type": "code",
   "execution_count": 49,
   "id": "ccb7ef56",
   "metadata": {},
   "outputs": [
    {
     "data": {
      "text/html": [
       "<html>\\(\\displaystyle \\mathrm{False}\\)</html>"
      ],
      "text/latex": [
       "$\\displaystyle \\mathrm{False}$"
      ],
      "text/plain": [
       "False"
      ]
     },
     "execution_count": 49,
     "metadata": {},
     "output_type": "execute_result"
    }
   ],
   "source": [
    "P3.is_zero()"
   ]
  },
  {
   "cell_type": "code",
   "execution_count": 50,
   "id": "f3ab31d8",
   "metadata": {},
   "outputs": [],
   "source": [
    "P4 = P3.quotient([x])"
   ]
  },
  {
   "cell_type": "code",
   "execution_count": 52,
   "id": "7fb78c42",
   "metadata": {},
   "outputs": [
    {
     "data": {
      "text/plain": [
       "Quotient of Localization of Quotient of Multivariate Polynomial Ring in x, y over Rational Field by the ideal (x*y) at [x] by the ideal (x)"
      ]
     },
     "execution_count": 52,
     "metadata": {},
     "output_type": "execute_result"
    }
   ],
   "source": [
    "%display plain\n",
    "P4"
   ]
  },
  {
   "cell_type": "code",
   "execution_count": 53,
   "id": "a01f268f",
   "metadata": {},
   "outputs": [
    {
     "data": {
      "text/plain": [
       "True"
      ]
     },
     "execution_count": 53,
     "metadata": {},
     "output_type": "execute_result"
    }
   ],
   "source": [
    "P4.is_zero()"
   ]
  },
  {
   "cell_type": "code",
   "execution_count": 54,
   "id": "a5df5a3f",
   "metadata": {},
   "outputs": [
    {
     "data": {
      "text/plain": [
       "True"
      ]
     },
     "execution_count": 54,
     "metadata": {},
     "output_type": "execute_result"
    }
   ],
   "source": [
    "1 in P3.ideal([x])"
   ]
  },
  {
   "cell_type": "code",
   "execution_count": null,
   "id": "ed2ad4a0",
   "metadata": {},
   "outputs": [],
   "source": [
    "1 in P3.ideal([y])"
   ]
  },
  {
   "cell_type": "markdown",
   "id": "953fb270",
   "metadata": {},
   "source": []
  }
 ],
 "metadata": {
  "kernelspec": {
   "display_name": "SageMath 9.8.rc1",
   "language": "sage",
   "name": "sagemath"
  },
  "language_info": {
   "codemirror_mode": {
    "name": "ipython",
    "version": 3
   },
   "file_extension": ".py",
   "mimetype": "text/x-python",
   "name": "python",
   "nbconvert_exporter": "python",
   "pygments_lexer": "ipython3",
   "version": "3.11.1"
  }
 },
 "nbformat": 4,
 "nbformat_minor": 5
}
